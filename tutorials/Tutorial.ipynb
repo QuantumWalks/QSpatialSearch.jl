{
 "cells": [
  {
   "cell_type": "markdown",
   "metadata": {},
   "source": [
    "# Introduction\n",
    "\n",
    "Package ```QuantumWalk``` enables you to simulate various types of quantum\n",
    "dynamics which can be describe using quantum walk, ie. quantum evolution with a\n",
    "discrete set of states. Such evolution can be understood as the evolution on a\n",
    "graph.\n",
    "\n",
    "The simplest example of quantum dynamics on a graph is quantum walk. In this\n",
    "case one is interested in the evolution of the system described by the\n",
    "probability distribution on the space of vertices. Another example is quantum\n",
    "spatial search, where one is interested in the probability of finding one of the\n",
    "marked nodes and the time required to visit it.\n",
    "\n",
    "# Type hierarchy\n",
    "\n",
    "In ```QuantumWalk``` package the dynamics is represented by the abstract type"
   ]
  },
  {
   "cell_type": "markdown",
   "metadata": {},
   "source": [
    "simulation of a quantum walk, and ```QWSearch```, representing a quantum\n",
    "spatial search. Both types are parametrized by the ```QWModel```, which can be\n",
    "used to represent the flavor of quantum walk used in the dynamic."
   ]
  },
  {
   "cell_type": "markdown",
   "metadata": {},
   "source": [
    "# Basic usage"
   ]
  },
  {
   "cell_type": "code",
   "execution_count": 3,
   "metadata": {},
   "outputs": [
    {
     "ename": "SyntaxError",
     "evalue": "invalid syntax (<ipython-input-3-ea97809c7866>, line 1)",
     "output_type": "error",
     "traceback": [
      "\u001b[0;36m  File \u001b[0;32m\"<ipython-input-3-ea97809c7866>\"\u001b[0;36m, line \u001b[0;32m1\u001b[0m\n\u001b[0;31m    using QuantumWalk\u001b[0m\n\u001b[0m                    ^\u001b[0m\n\u001b[0;31mSyntaxError\u001b[0m\u001b[0;31m:\u001b[0m invalid syntax\n"
     ]
    }
   ],
   "source": [
    "using QuantumWalk"
   ]
  },
  {
   "cell_type": "markdown",
   "metadata": {},
   "source": [
    "Let us assume that we need to simulate the continuous-time evolution on a\n",
    "complete graph of dimension"
   ]
  },
  {
   "cell_type": "code",
   "execution_count": 1,
   "metadata": {},
   "outputs": [],
   "source": [
    "n = 5"
   ]
  },
  {
   "cell_type": "markdown",
   "metadata": {},
   "source": [
    "The first step is to construct the graph using ```LightGraphs``` package."
   ]
  },
  {
   "cell_type": "code",
   "execution_count": 2,
   "metadata": {
    "attributes": {
     "classes": [
      "julia"
     ],
     "id": ""
    }
   },
   "outputs": [
    {
     "ename": "NameError",
     "evalue": "name 'CompleteGraph' is not defined",
     "output_type": "error",
     "traceback": [
      "\u001b[0;31m\u001b[0m",
      "\u001b[0;31mNameError\u001b[0mTraceback (most recent call last)",
      "\u001b[0;32m<ipython-input-2-8a2989cb9d10>\u001b[0m in \u001b[0;36m<module>\u001b[0;34m()\u001b[0m\n\u001b[0;32m----> 1\u001b[0;31m \u001b[0mg\u001b[0m \u001b[0;34m=\u001b[0m \u001b[0mCompleteGraph\u001b[0m\u001b[0;34m(\u001b[0m\u001b[0mn\u001b[0m\u001b[0;34m)\u001b[0m\u001b[0;34m\u001b[0m\u001b[0m\n\u001b[0m",
      "\u001b[0;31mNameError\u001b[0m: name 'CompleteGraph' is not defined"
     ]
    }
   ],
   "source": [
    "g = CompleteGraph(n)"
   ]
  },
  {
   "cell_type": "markdown",
   "metadata": {},
   "source": [
    "Next, one has to build the model of quantum walks used in the dynamics. In this\n",
    "case we use ```CTQW``` type from ```QuantumWalk``` package."
   ]
  },
  {
   "cell_type": "code",
   "execution_count": null,
   "metadata": {
    "attributes": {
     "classes": [
      "julia"
     ],
     "id": ""
    }
   },
   "outputs": [],
   "source": [
    "ctqw = CTQW(g)"
   ]
  },
  {
   "cell_type": "markdown",
   "metadata": {},
   "source": [
    "This object can be used to build the quantum dynamics based on continuous-time\n",
    "quantum walk on the given graphs"
   ]
  },
  {
   "cell_type": "code",
   "execution_count": null,
   "metadata": {
    "attributes": {
     "classes": [
      "julia"
     ],
     "id": ""
    }
   },
   "outputs": [],
   "source": [
    "ctqw_sim = QWEvolution(ctqw)"
   ]
  },
  {
   "cell_type": "markdown",
   "metadata": {},
   "source": [
    "This dynamics, which is in this case is of type ```QWEvolution```, can be used\n",
    "to simulate quantum walk. To achieve this one has to define an initial state"
   ]
  },
  {
   "cell_type": "code",
   "execution_count": null,
   "metadata": {
    "attributes": {
     "classes": [
      "julia"
     ],
     "id": ""
    }
   },
   "outputs": [],
   "source": [
    "init = zeros(n)\n",
    "init[3] = 1"
   ]
  },
  {
   "cell_type": "markdown",
   "metadata": {},
   "source": [
    "and execute the simulation"
   ]
  },
  {
   "cell_type": "code",
   "execution_count": null,
   "metadata": {},
   "outputs": [],
   "source": [
    "evolve(ctqw_sim, init, 2.0)"
   ]
  },
  {
   "cell_type": "markdown",
   "metadata": {},
   "source": [
    "Alternatively, if one is interested in executing quantum search using the\n",
    "continuous-time evolution, the ```ctqw``` can be used to build dynamics\n",
    "representing such procedure"
   ]
  },
  {
   "cell_type": "code",
   "execution_count": null,
   "metadata": {
    "attributes": {
     "classes": [
      "julia"
     ],
     "id": ""
    }
   },
   "outputs": [],
   "source": [
    "ctqw_qss = QWSearch(ctqw, [1,3])"
   ]
  },
  {
   "cell_type": "markdown",
   "metadata": {},
   "source": [
    "Here the last argument is used to describe the set of marked elements.\n",
    "\n",
    "The search procedure is executed as"
   ]
  },
  {
   "cell_type": "code",
   "execution_count": null,
   "metadata": {
    "attributes": {
     "classes": [
      "julia"
     ],
     "id": ""
    }
   },
   "outputs": [],
   "source": [
    "evolve(ctqw_qss, initial_state(ctqw_qss), 2.0)"
   ]
  },
  {
   "cell_type": "markdown",
   "metadata": {},
   "source": [
    "# Custom types\n",
    "\n",
    "It is possible to extend the package functionality by constructing data types\n",
    "derived from abstract types, which represent basic models of quantum walks. For\n",
    "example, the following declaration could be used to introduce quantum stochastic\n",
    "walks\n",
    "\n",
    "```julia\n",
    "structure StochasticCTQW <: AbstractCTQW\n",
    "  graph::Graph\n",
    "  matrix::Symbol\n",
    "  regime::Symbol\n",
    "end\n",
    "\n",
    "```"
   ]
  }
 ],
 "metadata": {
  "kernelspec": {
   "display_name": "Python 2",
   "language": "python",
   "name": "python2"
  },
  "language_info": {
   "codemirror_mode": {
    "name": "ipython",
    "version": 2
   },
   "file_extension": ".py",
   "mimetype": "text/x-python",
   "name": "python",
   "nbconvert_exporter": "python",
   "pygments_lexer": "ipython2",
   "version": "2.7.14"
  }
 },
 "nbformat": 4,
 "nbformat_minor": 2
}
